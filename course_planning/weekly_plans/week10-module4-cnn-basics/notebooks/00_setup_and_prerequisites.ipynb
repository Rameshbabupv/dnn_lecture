{
  "cells": [
    {
      "cell_type": "markdown",
      "metadata": {},
      "source": [
        "# Notebook 0: Setup & Prerequisites\n",
        "\n",
        "**Week 10 - Module 4: CNN Mathematical Foundations**  \n",
        "**Date:** October 27, 2025 (Saturday)  \n",
        "**Duration:** ~10 minutes  \n",
        "\n",
        "---\n",
        "\n",
        "## \ud83d\udcda Learning Objectives\n",
        "\n",
        "By the end of this notebook, you will:\n",
        "1. \u2705 Have all necessary packages installed\n",
        "2. \u2705 Understand NumPy basics needed for CNNs\n",
        "3. \u2705 Review Week 9 manual feature extraction concepts\n",
        "4. \u2705 Be ready to start the CNN journey!\n",
        "\n",
        "---\n",
        "\n",
        "## \ud83c\udfaf What's in This Notebook Series?\n",
        "\n",
        "You're starting a **9-notebook journey** to master CNNs:\n",
        "\n",
        "- **Notebook 0** (You are here): Setup & Prerequisites\n",
        "- **Notebook 1**: Convolution Concept & Intuition\n",
        "- **Notebook 2**: 1D Convolution Math & Code\n",
        "- **Notebook 3**: 2D Convolution for Images\n",
        "- **Notebook 4**: Convolution Parameters\n",
        "- **Notebook 5**: Hierarchical Feature Learning\n",
        "- **Notebook 6**: Pooling Mechanisms\n",
        "- **Notebook 7**: Complete CNN Architecture\n",
        "- **Notebook 8**: 3D Convolution Preview\n",
        "- **Notebook 9**: Review & Tutorial T10 Prep\n",
        "\n",
        "**Progress:** \ud83d\udd35\u26aa\u26aa\u26aa\u26aa\u26aa\u26aa\u26aa\u26aa\u26aa (1/9)\n"
      ]
    },
    {
      "cell_type": "markdown",
      "metadata": {},
      "source": [
        "---\n",
        "\n",
        "## \ud83d\udce6 Step 1: Package Installation\n",
        "\n",
        "Let's install everything we need for the entire notebook series."
      ]
    },
    {
      "cell_type": "code",
      "execution_count": null,
      "metadata": {},
      "outputs": [],
      "source": [
        "# Check Python version\n",
        "import sys\n",
        "print(f\"Python version: {sys.version}\")\n",
        "print(f\"Python {sys.version_info.major}.{sys.version_info.minor}.{sys.version_info.micro}\")"
      ]
    },
    {
      "cell_type": "code",
      "execution_count": null,
      "metadata": {},
      "outputs": [],
      "source": [
        "# Install required packages (uncomment if needed)\n",
        "# !pip install numpy matplotlib scipy pillow\n",
        "# !pip install tensorflow  # For notebooks 7-9 only"
      ]
    },
    {
      "cell_type": "markdown",
      "metadata": {},
      "source": [
        "---\n",
        "\n",
        "## \ud83d\udce5 Step 2: Import Essential Libraries"
      ]
    },
    {
      "cell_type": "code",
      "execution_count": null,
      "metadata": {},
      "outputs": [],
      "source": [
        "# Core libraries\n",
        "import numpy as np\n",
        "import matplotlib.pyplot as plt\n",
        "from scipy import signal\n",
        "import warnings\n",
        "warnings.filterwarnings('ignore')\n",
        "\n",
        "# Set random seed for reproducibility\n",
        "np.random.seed(42)\n",
        "\n",
        "# Configure matplotlib\n",
        "plt.style.use('default')\n",
        "%matplotlib inline\n",
        "\n",
        "print(\"\u2705 All libraries imported successfully!\")\n",
        "print(f\"NumPy version: {np.__version__}\")"
      ]
    },
    {
      "cell_type": "markdown",
      "metadata": {},
      "source": [
        "---\n",
        "\n",
        "## \ud83d\udee0\ufe0f Step 3: Helper Functions\n",
        "\n",
        "We'll define useful visualization functions for the entire series."
      ]
    },
    {
      "cell_type": "code",
      "execution_count": null,
      "metadata": {},
      "outputs": [],
      "source": [
        "def visualize_1d_convolution(signal, kernel, output, title=\"1D Convolution\"):\n",
        "    \"\"\"Visualize 1D convolution process.\"\"\"\n",
        "    fig, axes = plt.subplots(3, 1, figsize=(12, 8))\n",
        "    \n",
        "    # Plot signal\n",
        "    axes[0].stem(signal, basefmt=' ')\n",
        "    axes[0].set_title('Input Signal', fontsize=14, fontweight='bold')\n",
        "    axes[0].set_xlabel('Position')\n",
        "    axes[0].set_ylabel('Value')\n",
        "    axes[0].grid(True, alpha=0.3)\n",
        "    \n",
        "    # Plot kernel\n",
        "    axes[1].stem(kernel, basefmt=' ', linefmt='g-', markerfmt='go')\n",
        "    axes[1].set_title('Kernel (Filter)', fontsize=14, fontweight='bold')\n",
        "    axes[1].set_xlabel('Position')\n",
        "    axes[1].set_ylabel('Value')\n",
        "    axes[1].grid(True, alpha=0.3)\n",
        "    \n",
        "    # Plot output\n",
        "    axes[2].stem(output, basefmt=' ', linefmt='r-', markerfmt='ro')\n",
        "    axes[2].set_title('Convolution Output', fontsize=14, fontweight='bold')\n",
        "    axes[2].set_xlabel('Position')\n",
        "    axes[2].set_ylabel('Value')\n",
        "    axes[2].grid(True, alpha=0.3)\n",
        "    \n",
        "    plt.suptitle(title, fontsize=16, fontweight='bold', y=1.02)\n",
        "    plt.tight_layout()\n",
        "    plt.show()\n",
        "\n",
        "print(\"\u2705 1D convolution visualization function defined!\")"
      ]
    },
    {
      "cell_type": "code",
      "execution_count": null,
      "metadata": {},
      "outputs": [],
      "source": [
        "def visualize_2d_convolution(image, kernel, output, title=\"2D Convolution\"):\n",
        "    \"\"\"Visualize 2D convolution on images.\"\"\"\n",
        "    fig, axes = plt.subplots(1, 3, figsize=(15, 5))\n",
        "    \n",
        "    # Plot image\n",
        "    im0 = axes[0].imshow(image, cmap='gray', vmin=0, vmax=255)\n",
        "    axes[0].set_title('Input Image', fontsize=14, fontweight='bold')\n",
        "    axes[0].axis('off')\n",
        "    plt.colorbar(im0, ax=axes[0], fraction=0.046)\n",
        "    \n",
        "    # Plot kernel\n",
        "    im1 = axes[1].imshow(kernel, cmap='RdBu', vmin=-1, vmax=1)\n",
        "    axes[1].set_title('Kernel (Filter)', fontsize=14, fontweight='bold')\n",
        "    axes[1].axis('off')\n",
        "    plt.colorbar(im1, ax=axes[1], fraction=0.046)\n",
        "    \n",
        "    # Plot output\n",
        "    im2 = axes[2].imshow(output, cmap='viridis')\n",
        "    axes[2].set_title('Output Feature Map', fontsize=14, fontweight='bold')\n",
        "    axes[2].axis('off')\n",
        "    plt.colorbar(im2, ax=axes[2], fraction=0.046)\n",
        "    \n",
        "    plt.suptitle(title, fontsize=16, fontweight='bold')\n",
        "    plt.tight_layout()\n",
        "    plt.show()\n",
        "\n",
        "print(\"\u2705 2D convolution visualization function defined!\")"
      ]
    },
    {
      "cell_type": "code",
      "execution_count": null,
      "metadata": {},
      "outputs": [],
      "source": [
        "def create_test_image(size=5, pattern='edge'):\n",
        "    \"\"\"Create test images with different patterns.\"\"\"\n",
        "    if pattern == 'edge':\n",
        "        # Vertical edge: dark left, bright right\n",
        "        img = np.zeros((size, size))\n",
        "        img[:, size//2:] = 255\n",
        "    elif pattern == 'square':\n",
        "        # Bright square in dark background\n",
        "        img = np.zeros((size, size))\n",
        "        img[1:-1, 1:-1] = 255\n",
        "    elif pattern == 'random':\n",
        "        # Random noise\n",
        "        img = np.random.randint(0, 256, (size, size))\n",
        "    else:\n",
        "        # Gradient\n",
        "        img = np.linspace(0, 255, size*size).reshape(size, size)\n",
        "    \n",
        "    return img.astype(np.float32)\n",
        "\n",
        "print(\"\u2705 Test image generator defined!\")"
      ]
    },
    {
      "cell_type": "markdown",
      "metadata": {},
      "source": [
        "---\n",
        "\n",
        "## \ud83d\udcca Step 4: NumPy Quick Review\n",
        "\n",
        "Let's review essential NumPy operations for CNNs."
      ]
    },
    {
      "cell_type": "markdown",
      "metadata": {},
      "source": [
        "### 4.1 Array Creation and Indexing"
      ]
    },
    {
      "cell_type": "code",
      "execution_count": null,
      "metadata": {},
      "outputs": [],
      "source": [
        "# 1D array\n",
        "signal = np.array([1, 2, 3, 4, 5])\n",
        "print(\"1D Signal:\", signal)\n",
        "print(\"Shape:\", signal.shape)\n",
        "print(\"Element at index 2:\", signal[2])\n",
        "print(\"Slice [1:4]:\", signal[1:4])\n",
        "print()"
      ]
    },
    {
      "cell_type": "code",
      "execution_count": null,
      "metadata": {},
      "outputs": [],
      "source": [
        "# 2D array (image)\n",
        "image = np.array([\n",
        "    [1, 2, 3],\n",
        "    [4, 5, 6],\n",
        "    [7, 8, 9]\n",
        "])\n",
        "print(\"2D Image:\")\n",
        "print(image)\n",
        "print(\"\\nShape:\", image.shape)\n",
        "print(\"Element at [1, 2]:\", image[1, 2])\n",
        "print(\"\\nTop-left 2\u00d72 region:\")\n",
        "print(image[0:2, 0:2])"
      ]
    },
    {
      "cell_type": "markdown",
      "metadata": {},
      "source": [
        "### 4.2 Element-wise Operations (CRITICAL for Convolution!)"
      ]
    },
    {
      "cell_type": "code",
      "execution_count": null,
      "metadata": {},
      "outputs": [],
      "source": [
        "# Element-wise multiplication (this is what convolution does!)\n",
        "a = np.array([1, 2, 3])\n",
        "b = np.array([4, 5, 6])\n",
        "\n",
        "print(\"Array a:\", a)\n",
        "print(\"Array b:\", b)\n",
        "print(\"\\nElement-wise multiply (a * b):\", a * b)\n",
        "print(\"Sum of products:\", np.sum(a * b))\n",
        "print(\"\\n\ud83d\udc46 This is the core of convolution!\")"
      ]
    },
    {
      "cell_type": "code",
      "execution_count": null,
      "metadata": {},
      "outputs": [],
      "source": [
        "# 2D element-wise multiplication\n",
        "img_patch = np.array([\n",
        "    [1, 2],\n",
        "    [3, 4]\n",
        "])\n",
        "\n",
        "kernel = np.array([\n",
        "    [1, 0],\n",
        "    [0, -1]\n",
        "])\n",
        "\n",
        "print(\"Image patch:\")\n",
        "print(img_patch)\n",
        "print(\"\\nKernel:\")\n",
        "print(kernel)\n",
        "print(\"\\nElement-wise multiply:\")\n",
        "print(img_patch * kernel)\n",
        "print(\"\\nSum (convolution output at this position):\", np.sum(img_patch * kernel))"
      ]
    },
    {
      "cell_type": "markdown",
      "metadata": {},
      "source": [
        "### 4.3 Matrix Shapes and Dimensions"
      ]
    },
    {
      "cell_type": "code",
      "execution_count": null,
      "metadata": {},
      "outputs": [],
      "source": [
        "# Understanding image dimensions\n",
        "grayscale_image = np.random.rand(28, 28)  # Height \u00d7 Width\n",
        "rgb_image = np.random.rand(28, 28, 3)     # Height \u00d7 Width \u00d7 Channels\n",
        "\n",
        "print(\"Grayscale image shape:\", grayscale_image.shape)\n",
        "print(\"RGB image shape:\", rgb_image.shape)\n",
        "print(\"\\nConvention: (Height, Width, Channels)\")"
      ]
    },
    {
      "cell_type": "markdown",
      "metadata": {},
      "source": [
        "---\n",
        "\n",
        "## \ud83d\udd04 Step 5: Week 9 Recap - Manual Feature Extraction\n",
        "\n",
        "Before CNNs, we manually designed features. Let's recall what we learned!"
      ]
    },
    {
      "cell_type": "markdown",
      "metadata": {},
      "source": [
        "### What We Learned in Week 9:\n",
        "\n",
        "**Manual Feature Engineering:**\n",
        "\n",
        "1. **Shape Features:**\n",
        "   - Area, perimeter, circularity\n",
        "   - Aspect ratio, solidity\n",
        "   - Hu moments (rotation-invariant)\n",
        "\n",
        "2. **Color Features:**\n",
        "   - Color histograms\n",
        "   - Color moments (mean, std, skewness)\n",
        "   - Dominant colors\n",
        "\n",
        "3. **Texture Features:**\n",
        "   - **LBP (Local Binary Patterns)** - rotation invariant texture\n",
        "   - **GLCM (Gray-Level Co-occurrence Matrix)** - contrast, correlation, energy\n",
        "   - Edge density using Canny detector\n",
        "\n",
        "**The Problem:**\n",
        "- Had to design features manually for EVERY problem\n",
        "- Required domain expertise\n",
        "- Time-consuming and not generalizable\n",
        "\n",
        "**Character: Detective Kavya's Struggle:**\n",
        "```\n",
        "For face detection: Design face-specific features\n",
        "For car detection: Design car-specific features\n",
        "For tumor detection: Design tumor-specific features\n",
        "...\n",
        "\ud83d\ude2b Exhausting!\n",
        "```\n",
        "\n",
        "**The CNN Solution:**\n",
        "```\n",
        "CNN learns features automatically!\n",
        "Same process for faces, cars, tumors, everything!\n",
        "\u2705 Feature learning, not feature engineering!\n",
        "```"
      ]
    },
    {
      "cell_type": "markdown",
      "metadata": {},
      "source": [
        "---\n",
        "\n",
        "## \u2705 Step 6: Test Your Setup\n",
        "\n",
        "Let's make sure everything works!"
      ]
    },
    {
      "cell_type": "code",
      "execution_count": null,
      "metadata": {},
      "outputs": [],
      "source": [
        "# Test 1: Create and visualize a simple 1D convolution\n",
        "test_signal = np.array([1, 2, 3, 4, 5, 4, 3, 2])\n",
        "test_kernel = np.array([1, 0, -1])\n",
        "test_output = np.convolve(test_signal, test_kernel, mode='valid')\n",
        "\n",
        "visualize_1d_convolution(test_signal, test_kernel, test_output, \n",
        "                         title=\"Setup Test: 1D Convolution\")\n",
        "\n",
        "print(\"\u2705 1D visualization works!\")"
      ]
    },
    {
      "cell_type": "code",
      "execution_count": null,
      "metadata": {},
      "outputs": [],
      "source": [
        "# Test 2: Create and visualize a simple 2D convolution\n",
        "test_image = create_test_image(size=5, pattern='edge')\n",
        "test_kernel_2d = np.array([\n",
        "    [-1, 0, 1],\n",
        "    [-1, 0, 1],\n",
        "    [-1, 0, 1]\n",
        "])\n",
        "test_output_2d = signal.convolve2d(test_image, test_kernel_2d, mode='valid')\n",
        "\n",
        "visualize_2d_convolution(test_image, test_kernel_2d, test_output_2d,\n",
        "                         title=\"Setup Test: 2D Convolution (Edge Detection)\")\n",
        "\n",
        "print(\"\u2705 2D visualization works!\")"
      ]
    },
    {
      "cell_type": "markdown",
      "metadata": {},
      "source": [
        "---\n",
        "\n",
        "## \ud83c\udfaf Summary: What We Accomplished\n",
        "\n",
        "\u2705 **Packages installed:** NumPy, Matplotlib, SciPy  \n",
        "\u2705 **Helper functions created:** 1D and 2D visualization tools  \n",
        "\u2705 **NumPy review:** Arrays, indexing, element-wise operations  \n",
        "\u2705 **Week 9 recap:** Manual features vs learned features  \n",
        "\u2705 **Setup tested:** Convolutions are working!  \n",
        "\n",
        "---\n",
        "\n",
        "## \ud83d\ude80 Next Steps\n",
        "\n",
        "You're now ready to dive into **Notebook 1: Convolution Concept & Intuition**!\n",
        "\n",
        "In the next notebook, you'll learn:\n",
        "- What convolution IS (in plain language)\n",
        "- The coffee filter analogy\n",
        "- Character: Dr. Priya's ECG pattern matching story\n",
        "- Why convolution is the foundation of CNNs\n",
        "\n",
        "**Progress:** \ud83d\udd35\u26aa\u26aa\u26aa\u26aa\u26aa\u26aa\u26aa\u26aa\u26aa (1/9 Complete!)\n",
        "\n",
        "---\n",
        "\n",
        "## \ud83d\udcdd Quick Self-Check\n",
        "\n",
        "Before moving to Notebook 1, can you answer:\n",
        "\n",
        "1. What is the shape of a 28\u00d728 RGB image in NumPy?\n",
        "2. What operation does convolution use (element-wise multiply and...?)  \n",
        "3. Name 2 manual features we learned in Week 9\n",
        "4. What's the advantage of CNNs over manual features?\n",
        "\n",
        "<details>\n",
        "<summary>Click to see answers</summary>\n",
        "\n",
        "1. (28, 28, 3)\n",
        "2. Element-wise multiply and SUM\n",
        "3. LBP, GLCM, Hu moments, color histograms, etc.\n",
        "4. CNNs learn features automatically, same process works for all problems!\n",
        "</details>\n",
        "\n",
        "---\n",
        "\n",
        "**Ready to continue?** Open `01_convolution_concept_intuition.ipynb` next! \ud83c\udf93"
      ]
    }
  ],
  "metadata": {
    "kernelspec": {
      "display_name": "Python 3",
      "language": "python",
      "name": "python3"
    },
    "language_info": {
      "codemirror_mode": {
        "name": "ipython",
        "version": 3
      },
      "file_extension": ".py",
      "mimetype": "text/x-python",
      "name": "python",
      "nbconvert_exporter": "python",
      "pygments_lexer": "ipython3",
      "version": "3.8.0"
    }
  },
  "nbformat": 4,
  "nbformat_minor": 4
}