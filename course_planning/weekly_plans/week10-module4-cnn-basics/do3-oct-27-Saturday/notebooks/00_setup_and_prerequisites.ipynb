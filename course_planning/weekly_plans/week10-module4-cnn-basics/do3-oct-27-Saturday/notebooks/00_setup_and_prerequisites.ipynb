{
 "cells": [
  {
   "cell_type": "markdown",
   "metadata": {},
   "source": [
    "# Notebook 0: Setup & Prerequisites\n\n**Week 10 - Module 4: CNN Basics**\n**DO3 (October 27, 2025) - Saturday**\n\n## Purpose\n\nThis notebook sets up your environment and provides helper functions for the CNN notebooks series (Notebooks 1-9).\n\n---\n\n## Learning Objectives\n\n1. \u2705 Install required packages\n2. \u2705 Set up visualization helpers\n3. \u2705 Review NumPy basics\n4. \u2705 Understand Week 9 connection (LBP, GLCM)\n\n---"
   ]
  },
  {
   "cell_type": "markdown",
   "metadata": {},
   "source": [
    "## 1. Package Installation"
   ]
  },
  {
   "cell_type": "code",
   "metadata": {},
   "source": [
    "# Required packages\n# Run this cell if packages are not installed\n\n# !pip install numpy matplotlib scipy scikit-image tensorflow opencv-python\n\nimport numpy as np\nimport matplotlib.pyplot as plt\nfrom scipy import signal, ndimage\nimport tensorflow as tf\n\nprint(f\"NumPy version: {np.__version__}\")\nprint(f\"TensorFlow version: {tf.__version__}\")\nprint(\"\u2705 All packages loaded successfully!\")"
   ],
   "execution_count": null,
   "outputs": []
  },
  {
   "cell_type": "markdown",
   "metadata": {},
   "source": [
    "## 2. Helper Visualization Functions\n\nThese functions will be used throughout the notebook series."
   ]
  },
  {
   "cell_type": "code",
   "metadata": {},
   "source": [
    "def visualize_1d_convolution(signal_arr, kernel_arr, output_arr, title=\"1D Convolution\"):\n    \"\"\"Visualize 1D convolution process.\"\"\"\n    fig, axes = plt.subplots(3, 1, figsize=(12, 8))\n    \n    # Signal\n    axes[0].stem(signal_arr, basefmt=' ')\n    axes[0].set_title('Input Signal', fontsize=14, fontweight='bold')\n    axes[0].set_ylabel('Value')\n    axes[0].grid(True, alpha=0.3)\n    \n    # Kernel\n    axes[1].stem(kernel_arr, basefmt=' ', linefmt='g-', markerfmt='go')\n    axes[1].set_title('Kernel (Filter)', fontsize=14, fontweight='bold')\n    axes[1].set_ylabel('Weight')\n    axes[1].grid(True, alpha=0.3)\n    \n    # Output\n    axes[2].stem(output_arr, basefmt=' ', linefmt='r-', markerfmt='ro')\n    axes[2].set_title('Convolution Output', fontsize=14, fontweight='bold')\n    axes[2].set_xlabel('Position')\n    axes[2].set_ylabel('Value')\n    axes[2].grid(True, alpha=0.3)\n    \n    plt.suptitle(title, fontsize=16, fontweight='bold', y=1.02)\n    plt.tight_layout()\n    plt.show()\n\ndef visualize_2d_convolution(image, kernel, output, titles=None):\n    \"\"\"Visualize 2D convolution (image filtering).\"\"\"\n    if titles is None:\n        titles = ['Input Image', 'Kernel', 'Output']\n    \n    fig, axes = plt.subplots(1, 3, figsize=(15, 5))\n    \n    # Input image\n    axes[0].imshow(image, cmap='gray')\n    axes[0].set_title(titles[0], fontsize=13, fontweight='bold')\n    axes[0].axis('off')\n    \n    # Kernel\n    im = axes[1].imshow(kernel, cmap='RdBu', interpolation='nearest')\n    axes[1].set_title(titles[1], fontsize=13, fontweight='bold')\n    axes[1].axis('off')\n    plt.colorbar(im, ax=axes[1], fraction=0.046)\n    \n    # Output\n    axes[2].imshow(output, cmap='gray')\n    axes[2].set_title(titles[2], fontsize=13, fontweight='bold')\n    axes[2].axis('off')\n    \n    plt.tight_layout()\n    plt.show()\n\nprint(\"\u2705 Helper functions loaded!\")"
   ],
   "execution_count": null,
   "outputs": []
  },
  {
   "cell_type": "markdown",
   "metadata": {},
   "source": [
    "## 3. NumPy Quick Review\n\nEssential NumPy operations for CNN understanding."
   ]
  },
  {
   "cell_type": "code",
   "metadata": {},
   "source": [
    "# Array creation\narr_1d = np.array([1, 2, 3, 4, 5])\narr_2d = np.array([[1, 2, 3], [4, 5, 6]])\n\nprint(\"1D array:\", arr_1d)\nprint(\"Shape:\", arr_1d.shape)\nprint(\"\\n2D array:\")\nprint(arr_2d)\nprint(\"Shape:\", arr_2d.shape)\n\n# Element-wise operations\nprint(\"\\nElement-wise multiplication:\")\nprint(arr_1d * 2)\n\n# Matrix operations\nmat_a = np.array([[1, 2], [3, 4]])\nmat_b = np.array([[5, 6], [7, 8]])\n\nprint(\"\\nMatrix A:\")\nprint(mat_a)\nprint(\"\\nMatrix B:\")\nprint(mat_b)\nprint(\"\\nElement-wise product (Hadamard):\")\nprint(mat_a * mat_b)"
   ],
   "execution_count": null,
   "outputs": []
  },
  {
   "cell_type": "markdown",
   "metadata": {},
   "source": [
    "## 4. Week 9 Connection: Manual Features\n\nLast week (Week 9), we manually designed features:\n\n- **LBP (Local Binary Patterns)**: Texture patterns\n- **GLCM (Gray-Level Co-occurrence Matrix)**: Texture statistics  \n- **Shape Features**: Geometric properties\n\n**This week (Week 10):** CNNs learn these features automatically!\n\n---"
   ]
  },
  {
   "cell_type": "markdown",
   "metadata": {},
   "source": [
    "## Summary\n\n### \u2705 Setup Complete!\n\nYou now have:\n1. All required packages installed\n2. Helper visualization functions\n3. NumPy basics reviewed\n4. Understanding of Week 9 \u2192 Week 10 connection\n\n### \ud83d\udd2e Next Steps\n\nProceed to **Notebook 1: Convolution Concept & Intuition**\n\n---\n\n*Week 10 - Deep Neural Network Architectures (21CSE558T)*\n*SRM University - M.Tech Program*"
   ]
  }
 ],
 "metadata": {
  "kernelspec": {
   "display_name": "Python 3",
   "language": "python",
   "name": "python3"
  },
  "language_info": {
   "codemirror_mode": {
    "name": "ipython",
    "version": 3
   },
   "file_extension": ".py",
   "mimetype": "text/x-python",
   "name": "python",
   "nbconvert_exporter": "python",
   "pygments_lexer": "ipython3",
   "version": "3.8.0"
  }
 },
 "nbformat": 4,
 "nbformat_minor": 4
}