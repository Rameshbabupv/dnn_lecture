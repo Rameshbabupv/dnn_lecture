{
 "cells": [
  {
   "cell_type": "markdown",
   "metadata": {},
   "source": [
    "# Notebook 8: 3D Convolution Preview\n\n**Week 10 - Module 4: CNN Basics**\n**DO3 (October 27, 2025) - Saturday**\n**Duration:** 10-15 minutes\n\n## Learning Objectives\n\n1. \u2705 **Understand** difference between 2D and 3D convolution\n2. \u2705 **Identify** use cases for 3D convolution\n3. \u2705 **Recognize** when to use 3D vs 2D\n\n---"
   ]
  },
  {
   "cell_type": "code",
   "metadata": {},
   "source": [
    "import numpy as np\nimport tensorflow as tf\n\nprint(\"\u2705 Setup complete!\")"
   ],
   "execution_count": null,
   "outputs": []
  },
  {
   "cell_type": "markdown",
   "metadata": {},
   "source": [
    "## 1. 2D vs 3D Convolution\n\n### 2D Convolution (what we've learned):\n- **Input**: H \u00d7 W \u00d7 C (height, width, channels)\n- **Kernel**: Kh \u00d7 Kw \u00d7 C \u00d7 Filters\n- **Output**: H' \u00d7 W' \u00d7 Filters\n- **Use case**: Images (spatial features)\n\n### 3D Convolution:\n- **Input**: D \u00d7 H \u00d7 W \u00d7 C (depth, height, width, channels)\n- **Kernel**: Kd \u00d7 Kh \u00d7 Kw \u00d7 C \u00d7 Filters\n- **Output**: D' \u00d7 H' \u00d7 W' \u00d7 Filters\n- **Use case**: Videos, 3D medical scans (spatiotemporal features)\n\n---"
   ]
  },
  {
   "cell_type": "markdown",
   "metadata": {},
   "source": [
    "## 2. When to Use 3D Convolution?\n\n**Applications:**\n\n1. **Video Analysis**\n   - Action recognition (sports, surveillance)\n   - Gesture recognition\n   - Video captioning\n\n2. **Medical Imaging**\n   - CT scans (3D body scans)\n   - MRI volumes\n   - Tumor detection\n\n3. **Climate Science**\n   - Weather prediction (3D atmospheric data)\n   - Ocean temperature analysis\n\n---"
   ]
  },
  {
   "cell_type": "code",
   "metadata": {},
   "source": [
    "# Example: 3D Conv for video (5 frames, 64\u00d764 RGB)\nfrom tensorflow.keras import layers\n\nmodel_3d = tf.keras.Sequential([\n    layers.Conv3D(32, (3, 3, 3), activation='relu',\n                  input_shape=(5, 64, 64, 3)),  # (frames, h, w, channels)\n    layers.MaxPooling3D((1, 2, 2)),  # Pool spatial, not temporal\n    layers.Conv3D(64, (3, 3, 3), activation='relu'),\n    layers.MaxPooling3D((1, 2, 2)),\n    layers.Flatten(),\n    layers.Dense(10, activation='softmax')\n])\n\nmodel_3d.summary()"
   ],
   "execution_count": null,
   "outputs": []
  },
  {
   "cell_type": "markdown",
   "metadata": {},
   "source": [
    "## 3. 2D Conv on RGB Images (Important Clarification!)\n\n**Common Confusion:**\n\n> \"RGB images have 3 channels. Is that 3D convolution?\"\n\n**Answer:** NO! It's still 2D convolution.\n\n- **Input**: H \u00d7 W \u00d7 3 (spatial 2D + 3 color channels)\n- **Kernel**: Kh \u00d7 Kw \u00d7 3 \u00d7 Filters\n- **Convolution**: Applied spatially (2D), aggregates across channels\n\n**3D convolution** adds a **third spatial dimension** (depth/time).\n\n---"
   ]
  },
  {
   "cell_type": "markdown",
   "metadata": {},
   "source": [
    "## 4. Parameter Comparison\n\n**2D Conv (32\u00d732 RGB image, 64 filters, 3\u00d73 kernel):**\n- Params = $3 \\times 3 \\times 3 \\times 64 + 64 = 1,792$\n\n**3D Conv (16 frames, 32\u00d732 RGB, 64 filters, 3\u00d73\u00d73 kernel):**\n- Params = $3 \\times 3 \\times 3 \\times 3 \\times 64 + 64 = 5,248$\n\n**3D convolution is ~3\u00d7 more expensive!**\n\n---"
   ]
  },
  {
   "cell_type": "markdown",
   "metadata": {},
   "source": [
    "## Summary\n\n### \ud83c\udfaf Key Distinctions\n\n1. **2D Conv**: Spatial features (images)\n   - Input: H \u00d7 W \u00d7 C\n   - Kernel: Kh \u00d7 Kw \u00d7 C \u00d7 F\n\n2. **3D Conv**: Spatiotemporal features (videos, 3D scans)\n   - Input: D \u00d7 H \u00d7 W \u00d7 C\n   - Kernel: Kd \u00d7 Kh \u00d7 Kw \u00d7 C \u00d7 F\n\n3. **RGB Images**: Still 2D convolution (channels \u2260 depth)\n\n### \ud83d\udd2e Next\n\n**Notebook 9:** Review & Tutorial T10 Preview\n\n---\n\n*Week 10 - Deep Neural Network Architectures (21CSE558T)*\n*SRM University - M.Tech Program*"
   ]
  }
 ],
 "metadata": {
  "kernelspec": {
   "display_name": "Python 3",
   "language": "python",
   "name": "python3"
  },
  "language_info": {
   "codemirror_mode": {
    "name": "ipython",
    "version": 3
   },
   "file_extension": ".py",
   "mimetype": "text/x-python",
   "name": "python",
   "nbconvert_exporter": "python",
   "pygments_lexer": "ipython3",
   "version": "3.8.0"
  }
 },
 "nbformat": 4,
 "nbformat_minor": 4
}