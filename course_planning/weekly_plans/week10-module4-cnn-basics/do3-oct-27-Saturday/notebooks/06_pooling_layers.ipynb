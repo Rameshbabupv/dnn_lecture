{
 "cells": [
  {
   "cell_type": "markdown",
   "metadata": {},
   "source": [
    "# Notebook 6: Pooling Layers\n\n**Week 10 - Module 4: CNN Basics**\n**DO3 (October 27, 2025) - Saturday**\n**Duration:** 15-20 minutes\n\n## Learning Objectives\n\n1. \u2705 **Understand** why pooling is needed\n2. \u2705 **Implement** max pooling and average pooling\n3. \u2705 **Calculate** pooling output dimensions\n4. \u2705 **Compare** pooling vs stride\n\n---"
   ]
  },
  {
   "cell_type": "code",
   "metadata": {},
   "source": [
    "import numpy as np\nimport matplotlib.pyplot as plt\n\nplt.rcParams['figure.figsize'] = (12, 6)\nprint(\"\u2705 Setup complete!\")"
   ],
   "execution_count": null,
   "outputs": []
  },
  {
   "cell_type": "markdown",
   "metadata": {},
   "source": [
    "## 1. Why Pooling?\n\n**Three Main Reasons:**\n\n1. **Translation Invariance**: Small shifts don't matter\n2. **Dimension Reduction**: Reduce computational load\n3. **Overfitting Prevention**: Fewer parameters to learn\n\n### Example:\n\nIf a cat's eye moves 1 pixel, we still want to detect it!\n\n---"
   ]
  },
  {
   "cell_type": "markdown",
   "metadata": {},
   "source": [
    "## 2. Max Pooling\n\n**Max Pooling** = Take maximum value in window\n\n**Example (2\u00d72 max pooling):**\n\n```\nInput (4\u00d74):          Output (2\u00d72):\n[1, 3, 2, 4]          [3, 4]\n[5, 6, 7, 8]     \u2192    [6, 8]\n[9, 2, 3, 4]\n[1, 5, 6, 7]          [9, 7]\n```\n\n**Calculation:**\n- Top-left: max(1,3,5,6) = 6\n- Top-right: max(2,4,7,8) = 8\n- Bottom-left: max(9,2,1,5) = 9\n- Bottom-right: max(3,4,6,7) = 7\n\n---"
   ]
  },
  {
   "cell_type": "code",
   "metadata": {},
   "source": [
    "def max_pool2d(image, pool_size=2, stride=2):\n    \"\"\"Implement 2D max pooling.\"\"\"\n    h, w = image.shape\n    out_h = (h - pool_size) // stride + 1\n    out_w = (w - pool_size) // stride + 1\n    output = np.zeros((out_h, out_w))\n\n    for i in range(out_h):\n        for j in range(out_w):\n            start_i = i * stride\n            start_j = j * stride\n            window = image[start_i:start_i+pool_size, start_j:start_j+pool_size]\n            output[i, j] = np.max(window)\n\n    return output\n\n# Test\ntest_img = np.array([[1, 3, 2, 4],\n                     [5, 6, 7, 8],\n                     [9, 2, 3, 4],\n                     [1, 5, 6, 7]])\n\npooled = max_pool2d(test_img, pool_size=2, stride=2)\nprint(\"Input (4\u00d74):\")\nprint(test_img)\nprint(\"\\nMax Pooled (2\u00d72):\")\nprint(pooled)"
   ],
   "execution_count": null,
   "outputs": []
  },
  {
   "cell_type": "markdown",
   "metadata": {},
   "source": [
    "## 3. Average Pooling\n\n**Average Pooling** = Take average value in window\n\nSame example:\n```\nInput (4\u00d74):          Output (2\u00d72):\n[1, 3, 2, 4]          [3.75, 5.25]\n[5, 6, 7, 8]     \u2192\n[9, 2, 3, 4]          [4.25, 5.0]\n[1, 5, 6, 7]\n```\n\n**When to use which?**\n- **Max Pooling**: Most common, preserves strongest features\n- **Average Pooling**: Smoother, used in final layers\n\n---"
   ]
  },
  {
   "cell_type": "code",
   "metadata": {},
   "source": [
    "def avg_pool2d(image, pool_size=2, stride=2):\n    \"\"\"Implement 2D average pooling.\"\"\"\n    h, w = image.shape\n    out_h = (h - pool_size) // stride + 1\n    out_w = (w - pool_size) // stride + 1\n    output = np.zeros((out_h, out_w))\n\n    for i in range(out_h):\n        for j in range(out_w):\n            start_i = i * stride\n            start_j = j * stride\n            window = image[start_i:start_i+pool_size, start_j:start_j+pool_size]\n            output[i, j] = np.mean(window)\n\n    return output\n\navg_pooled = avg_pool2d(test_img, pool_size=2, stride=2)\nprint(\"Average Pooled (2\u00d72):\")\nprint(avg_pooled)\nprint(\"\\nMax vs Average:\")\nprint(f\"Max: {pooled[0,0]:.2f} | Avg: {avg_pooled[0,0]:.2f}\")"
   ],
   "execution_count": null,
   "outputs": []
  },
  {
   "cell_type": "markdown",
   "metadata": {},
   "source": [
    "## 4. Global Average Pooling (GAP)\n\n**GAP** = Average over entire spatial dimension\n\n- **Input**: H \u00d7 W \u00d7 C\n- **Output**: 1 \u00d7 1 \u00d7 C\n\n**Use case:** Replace fully connected layers at the end\n\n---"
   ]
  },
  {
   "cell_type": "markdown",
   "metadata": {},
   "source": [
    "## Summary\n\n### \ud83c\udfaf Key Points\n\n1. **Max Pooling**: Keeps strongest activations\n2. **Average Pooling**: Smooth aggregation\n3. **Output Size**: $(H - F) / S + 1$ (same as convolution)\n4. **No Parameters**: Pooling has NO learnable weights!\n\n### \ud83d\udd2e Next\n\n**Notebook 7:** Complete CNN Architecture (putting it all together)\n\n---\n\n*Week 10 - Deep Neural Network Architectures (21CSE558T)*\n*SRM University - M.Tech Program*"
   ]
  }
 ],
 "metadata": {
  "kernelspec": {
   "display_name": "Python 3",
   "language": "python",
   "name": "python3"
  },
  "language_info": {
   "codemirror_mode": {
    "name": "ipython",
    "version": 3
   },
   "file_extension": ".py",
   "mimetype": "text/x-python",
   "name": "python",
   "nbconvert_exporter": "python",
   "pygments_lexer": "ipython3",
   "version": "3.8.0"
  }
 },
 "nbformat": 4,
 "nbformat_minor": 4
}