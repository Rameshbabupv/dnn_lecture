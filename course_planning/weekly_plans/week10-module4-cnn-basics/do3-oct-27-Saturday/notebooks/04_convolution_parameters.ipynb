{
 "cells": [
  {
   "cell_type": "markdown",
   "metadata": {},
   "source": [
    "# Notebook 4: Convolution Parameters (Stride, Padding, Kernel Size)\n\n**Week 10 - Module 4: CNN Basics**\n**DO3 (October 27, 2025) - Saturday**\n**Duration:** 20 minutes\n\n## Learning Objectives\n\n1. \u2705 **Understand** stride and its effect on output size\n2. \u2705 **Apply** padding to maintain dimensions\n3. \u2705 **Calculate** output dimensions using the formula\n4. \u2705 **Compare** different kernel sizes and their trade-offs\n\n---"
   ]
  },
  {
   "cell_type": "code",
   "metadata": {},
   "source": [
    "import numpy as np\nimport matplotlib.pyplot as plt\nfrom scipy.signal import convolve2d\n\nplt.rcParams['figure.figsize'] = (14, 6)\nprint(\"\u2705 Setup complete!\")"
   ],
   "execution_count": null,
   "outputs": []
  },
  {
   "cell_type": "markdown",
   "metadata": {},
   "source": [
    "## 1. Parameter #1: Stride\n\n**Stride** = How many pixels to move when sliding the kernel\n\n- **Stride = 1**: Slide 1 pixel at a time (most common)\n- **Stride = 2**: Slide 2 pixels (faster, smaller output)\n- **Stride = 3**: Slide 3 pixels (even smaller output)\n\n### Output Size Formula (Stride):\n\n$$\n\\text{Output Size} = \\left\\lfloor \\frac{W - F}{S} \\right\\rfloor + 1\n$$\n\nWhere:\n- $W$ = input width\n- $F$ = filter size\n- $S$ = stride\n\n---"
   ]
  },
  {
   "cell_type": "code",
   "metadata": {},
   "source": [
    "# Demonstrate different strides\ninput_1d = np.array([1, 2, 3, 4, 5, 6, 7, 8, 9, 10])\nkernel_1d = np.array([1, 1, 1]) / 3\n\ndef convolve_with_stride(signal, kernel, stride):\n    \"\"\"Manual convolution with stride.\"\"\"\n    n = len(signal)\n    k = len(kernel)\n    output_size = (n - k) // stride + 1\n    output = np.zeros(output_size)\n    for i in range(output_size):\n        pos = i * stride\n        output[i] = np.sum(signal[pos:pos+k] * kernel)\n    return output\n\n# Test different strides\nfor stride in [1, 2, 3]:\n    output = convolve_with_stride(input_1d, kernel_1d, stride)\n    print(f\"Stride {stride}: Output size = {len(output)}, values = {output}\")"
   ],
   "execution_count": null,
   "outputs": []
  },
  {
   "cell_type": "markdown",
   "metadata": {},
   "source": [
    "## 2. Parameter #2: Padding\n\n**Padding** = Adding border pixels to input\n\n**Why padding?**\n- Maintain spatial dimensions\n- Preserve border information\n- Control output size\n\n**Types:**\n- **Valid**: No padding (output shrinks)\n- **Same**: Zero padding (output = input size)\n\n---"
   ]
  },
  {
   "cell_type": "code",
   "metadata": {},
   "source": [
    "# Visualize padding\nimg_small = np.array([[1, 2, 3], [4, 5, 6], [7, 8, 9]])\nkernel_3x3 = np.array([[1, 0, -1], [1, 0, -1], [1, 0, -1]])\n\n# Valid mode (no padding)\nvalid = convolve2d(img_small, kernel_3x3, mode='valid')\n# Same mode (with padding)\nsame = convolve2d(img_small, kernel_3x3, mode='same')\n\nprint(f\"Input shape: {img_small.shape}\")\nprint(f\"Valid mode output: {valid.shape}\")\nprint(f\"Same mode output: {same.shape}\")"
   ],
   "execution_count": null,
   "outputs": []
  },
  {
   "cell_type": "markdown",
   "metadata": {},
   "source": [
    "## 3. Output Dimension Formula (Complete)\n\n### The Master Formula:\n\n$$\n\\text{Output} = \\left\\lfloor \\frac{W - F + 2P}{S} \\right\\rfloor + 1\n$$\n\nWhere:\n- $W$ = input width/height\n- $F$ = filter size\n- $P$ = padding\n- $S$ = stride\n\n### Example Calculations:\n\n**Case 1:** Input=28\u00d728, Filter=5\u00d75, Stride=1, Padding=0\n$$\n\\text{Output} = \\frac{28 - 5 + 0}{1} + 1 = 24\n$$\n\n**Case 2:** Input=32\u00d732, Filter=3\u00d73, Stride=2, Padding=1\n$$\n\\text{Output} = \\frac{32 - 3 + 2}{2} + 1 = 16\n$$\n\n---"
   ]
  },
  {
   "cell_type": "code",
   "metadata": {},
   "source": [
    "def calculate_output_size(input_size, filter_size, stride, padding):\n    \"\"\"Calculate output dimensions.\"\"\"\n    return ((input_size - filter_size + 2*padding) // stride) + 1\n\n# Test cases\ncases = [\n    (28, 5, 1, 0),  # MNIST with 5x5 filter\n    (32, 3, 1, 1),  # CIFAR with 3x3 filter, padding\n    (224, 7, 2, 3), # ImageNet first layer\n]\n\nprint(\"Input | Filter | Stride | Padding | Output\")\nprint(\"-\" * 50)\nfor w, f, s, p in cases:\n    out = calculate_output_size(w, f, s, p)\n    print(f\"{w:5} | {f:6} | {s:6} | {p:7} | {out:6}\")"
   ],
   "execution_count": null,
   "outputs": []
  },
  {
   "cell_type": "markdown",
   "metadata": {},
   "source": [
    "## 4. Parameter #3: Kernel Size\n\n**Common kernel sizes:**\n- **3\u00d73**: Most common (VGG, ResNet)\n- **5\u00d75**: Wider receptive field\n- **1\u00d71**: Channel mixing (no spatial)\n- **7\u00d77**: First layer of deep networks\n\n### Trade-offs:\n\n| Kernel Size | Pros | Cons |\n|-------------|------|------|\n| **1\u00d71** | Fast, fewer params | No spatial info |\n| **3\u00d73** | Balanced, stackable | Smaller receptive field |\n| **5\u00d75** | Larger receptive field | More parameters |\n| **7\u00d77** | Very wide context | Expensive |\n\n---"
   ]
  },
  {
   "cell_type": "markdown",
   "metadata": {},
   "source": [
    "## Summary\n\n### \ud83c\udfaf Key Formulas\n\n1. **Output Size:**\n   $$\\text{Output} = \\left\\lfloor \\frac{W - F + 2P}{S} \\right\\rfloor + 1$$\n\n2. **Common Configurations:**\n   - **Same padding**: $P = (F-1)/2$ (for stride=1)\n   - **Valid padding**: $P = 0$\n\n3. **Parameter Count:**\n   - For filter $F \\times F \\times C_{in} \\times C_{out}$\n   - Params = $F^2 \\times C_{in} \\times C_{out} + C_{out}$ (with bias)\n\n### \ud83d\udd2e Next\n\n**Notebook 5:** Hierarchical Feature Learning (edges \u2192 shapes \u2192 objects)\n\n---\n\n*Week 10 - Deep Neural Network Architectures (21CSE558T)*\n*SRM University - M.Tech Program*"
   ]
  }
 ],
 "metadata": {
  "kernelspec": {
   "display_name": "Python 3",
   "language": "python",
   "name": "python3"
  },
  "language_info": {
   "codemirror_mode": {
    "name": "ipython",
    "version": 3
   },
   "file_extension": ".py",
   "mimetype": "text/x-python",
   "name": "python",
   "nbconvert_exporter": "python",
   "pygments_lexer": "ipython3",
   "version": "3.8.0"
  }
 },
 "nbformat": 4,
 "nbformat_minor": 4
}