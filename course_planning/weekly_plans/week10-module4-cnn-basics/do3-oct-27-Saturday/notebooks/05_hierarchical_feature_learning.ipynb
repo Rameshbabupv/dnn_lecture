{
 "cells": [
  {
   "cell_type": "markdown",
   "metadata": {},
   "source": [
    "# Notebook 5: Hierarchical Feature Learning\n\n**Week 10 - Module 4: CNN Basics**\n**DO3 (October 27, 2025) - Saturday**\n**Duration:** 20 minutes\n\n## Learning Objectives\n\n1. \u2705 **Understand** feature hierarchy in CNNs (edges \u2192 textures \u2192 parts \u2192 objects)\n2. \u2705 **Visualize** how features evolve across layers\n3. \u2705 **Connect** to Week 9 manual features (LBP, GLCM)\n4. \u2705 **Explain** receptive field concept\n\n---"
   ]
  },
  {
   "cell_type": "code",
   "metadata": {},
   "source": [
    "import numpy as np\nimport matplotlib.pyplot as plt\n\nplt.rcParams['figure.figsize'] = (14, 8)\nprint(\"\u2705 Setup complete!\")"
   ],
   "execution_count": null,
   "outputs": []
  },
  {
   "cell_type": "markdown",
   "metadata": {},
   "source": [
    "## 1. The Hierarchy: From Week 9 to Week 10\n\n### Week 9: Manual Feature Design\n- **LBP**: Local texture patterns (3\u00d73 neighborhoods)\n- **GLCM**: Co-occurrence statistics\n- **Shape features**: Geometric properties\n\n**Problem:** WE designed these features manually\n\n### Week 10: Learned Feature Hierarchy\n- **Layer 1**: Edges, colors (like manual edge detectors)\n- **Layer 2**: Textures, patterns (like LBP/GLCM)\n- **Layer 3**: Object parts (eyes, wheels)\n- **Layer 4**: Complete objects (faces, cars)\n\n**Solution:** CNN LEARNS this hierarchy automatically!\n\n---"
   ]
  },
  {
   "cell_type": "markdown",
   "metadata": {},
   "source": [
    "## 2. Feature Hierarchy Visualization\n\n```\nInput Image (224\u00d7224\u00d73 RGB)\n    \u2193\nLayer 1: Edge Detectors (Conv 3\u00d73, 64 filters)\n    \u2192 Detects: Horizontal, vertical, diagonal edges\n    \u2192 Like: Sobel, Prewitt filters from Week 9\n    \u2193\nLayer 2: Texture Detectors (Conv 3\u00d73, 128 filters)\n    \u2192 Detects: Patterns, textures\n    \u2192 Like: LBP, GLCM from Week 9\n    \u2193\nLayer 3: Part Detectors (Conv 3\u00d73, 256 filters)\n    \u2192 Detects: Eyes, wheels, windows\n    \u2192 Combines: Edges + textures\n    \u2193\nLayer 4: Object Detectors (Conv 3\u00d73, 512 filters)\n    \u2192 Detects: Faces, cars, animals\n    \u2192 Combines: Multiple parts\n```\n\n---"
   ]
  },
  {
   "cell_type": "code",
   "metadata": {},
   "source": [
    "# Simulate feature hierarchy\nfig, axes = plt.subplots(1, 4, figsize=(16, 4))\n\n# Layer 1: Edges\nedges = np.array([[0, 1, 0], [1, 1, 1], [0, 1, 0]])\naxes[0].imshow(edges, cmap='gray')\naxes[0].set_title('Layer 1:\\nEdges', fontsize=13, fontweight='bold')\naxes[0].axis('off')\n\n# Layer 2: Textures\ntexture = np.random.rand(5, 5)\naxes[1].imshow(texture, cmap='gray')\naxes[1].set_title('Layer 2:\\nTextures', fontsize=13, fontweight='bold')\naxes[1].axis('off')\n\n# Layer 3: Parts\npart = np.zeros((10, 10))\npart[2:8, 2:8] = 1  # Simple shape\naxes[2].imshow(part, cmap='gray')\naxes[2].set_title('Layer 3:\\nParts', fontsize=13, fontweight='bold')\naxes[2].axis('off')\n\n# Layer 4: Objects\nobj = np.zeros((15, 15))\nobj[3:12, 3:12] = 1  # Larger shape\naxes[3].imshow(obj, cmap='gray')\naxes[3].set_title('Layer 4:\\nObjects', fontsize=13, fontweight='bold')\naxes[3].axis('off')\n\nplt.tight_layout()\nplt.show()\n\nprint(\"\ud83c\udfaf Feature Hierarchy:\")\nprint(\"  Layer 1 (simple) \u2192 Layer 4 (complex)\")"
   ],
   "execution_count": null,
   "outputs": []
  },
  {
   "cell_type": "markdown",
   "metadata": {},
   "source": [
    "## 3. Receptive Field Concept\n\n**Receptive Field** = Region of input that affects a neuron\n\n- **Layer 1**: 3\u00d73 receptive field\n- **Layer 2**: 5\u00d75 receptive field (combines 3\u00d73 from layer 1)\n- **Layer 3**: 7\u00d77 receptive field\n- **Layer 4**: 9\u00d79 receptive field\n\n**Key Insight:** Stacking convolutions increases receptive field WITHOUT large kernels!\n\n---"
   ]
  },
  {
   "cell_type": "markdown",
   "metadata": {},
   "source": [
    "## Summary\n\n### \ud83c\udfaf Hierarchy\n\n1. **Layer 1**: Edges, colors \u2192 replaces Sobel, Prewitt\n2. **Layer 2**: Textures \u2192 replaces LBP, GLCM\n3. **Layer 3**: Parts \u2192 combines features\n4. **Layer 4**: Objects \u2192 final detection\n\n### \ud83d\udd2e Next\n\n**Notebook 6:** Pooling Mechanisms (dimension reduction, translation invariance)\n\n---\n\n*Week 10 - Deep Neural Network Architectures (21CSE558T)*\n*SRM University - M.Tech Program*"
   ]
  }
 ],
 "metadata": {
  "kernelspec": {
   "display_name": "Python 3",
   "language": "python",
   "name": "python3"
  },
  "language_info": {
   "codemirror_mode": {
    "name": "ipython",
    "version": 3
   },
   "file_extension": ".py",
   "mimetype": "text/x-python",
   "name": "python",
   "nbconvert_exporter": "python",
   "pygments_lexer": "ipython3",
   "version": "3.8.0"
  }
 },
 "nbformat": 4,
 "nbformat_minor": 4
}